{
 "cells": [
  {
   "cell_type": "markdown",
   "metadata": {},
   "source": [
    "# Part 2: MLP\n",
    "\n",
    "In this part of the assignment, you will complete a Do-It-Yourself (DIY) implementation of a multilayer perceptron (MLP), including code to optimize the network with backpropagation and minibatch stochastic gradient descent, that corresponds to the Scikit-Learn API.\n",
    "\n",
    "**Learning objectives.** You will:\n",
    "1. Write object-oriented code for a neural network class in Python class, matching standard API patterns.\n",
    "2. Apply numerical Python (NumPy) to efficiently implement a multilayer perceptron with backpropagation and minibatch stochastic gradient descent. \n",
    "3. Evaluate your implementation compared to the Scikit-Learn standard on real image data. "
   ]
  },
  {
   "cell_type": "markdown",
   "metadata": {},
   "source": [
    "The following code imports a dataset consisting of 8 by 8 pixel grayscale images of handwritten digits. Some images are visualized and then the data are flattened into 64-value one-dimensional NumPy arrays before splitting into training and testing sets."
   ]
  },
  {
   "cell_type": "code",
   "execution_count": 1,
   "metadata": {},
   "outputs": [
    {
     "name": "stdout",
     "output_type": "stream",
     "text": [
      "(1797, 64)\n"
     ]
    },
    {
     "data": {
      "image/png": "[encoded data removed]",
      "text/plain": [
       "<Figure size 1000x300 with 4 Axes>"
      ]
     },
     "metadata": {},
     "output_type": "display_data"
    }
   ],
   "source": [
    "# Run but DO NOT MODIFY this code\n",
    "\n",
    "from sklearn.datasets import load_digits\n",
    "import matplotlib.pyplot as plt\n",
    "from sklearn.model_selection import train_test_split\n",
    "\n",
    "digits = load_digits()\n",
    "print(digits.data.shape)\n",
    "\n",
    "# visualizing examples\n",
    "_, axes = plt.subplots(nrows=1, ncols=4, figsize=(10, 3))\n",
    "for ax, image, label in zip(axes, digits.images, digits.target):\n",
    "    ax.set_axis_off()\n",
    "    ax.imshow(image, cmap=plt.cm.gray_r, interpolation=\"nearest\")\n",
    "    ax.set_title(\"Training: %i\" % label)\n",
    "\n",
    "# flatten the images\n",
    "n_samples = len(digits.images)\n",
    "data = digits.images.reshape((n_samples, -1))\n",
    "\n",
    "# Split data into 70% train and 30% test subsets\n",
    "X_train, X_test, y_train, y_test = train_test_split(\n",
    "    data, digits.target, test_size=0.3, shuffle=False\n",
    "    )"
   ]
  },
  {
   "cell_type": "markdown",
   "metadata": {},
   "source": [
    "## Task 1\n",
    "\n",
    "Using Scikit-Learn, build a [multilayer perceptron classifier](https://scikit-learn.org/stable/modules/generated/sklearn.neural_network.MLPClassifier.html) fit on the training data to predict the value of `y` given `X`. You may need to experiment with different numbers of hidden units (you only need to have one hidden layer) or other training hyperparameters. Ensure that you achieve a **training** [accuracy](https://scikit-learn.org/stable/modules/generated/sklearn.metrics.accuracy_score.html) of at least 90%.   \n",
    "\n",
    "Then evaluate and report the [accuracy](https://scikit-learn.org/stable/modules/generated/sklearn.metrics.accuracy_score.html) of your model on the **test** data."
   ]
  },
  {
   "cell_type": "code",
   "execution_count": 10,
   "metadata": {},
   "outputs": [
    {
     "name": "stdout",
     "output_type": "stream",
     "text": [
      "[0 1 2 3 4 5 6 7 8 9]\n",
      "[0 1 2 3 4 5 6 7 8 9]\n",
      "Training Accuracy: 1.0\n",
      "Test Accuracy: 0.8722222222222222\n"
     ]
    }
   ],
   "source": [
    "from sklearn.neural_network import MLPClassifier\n",
    "from sklearn.metrics import accuracy_score\n",
    "\n",
    "mlp = MLPClassifier(hidden_layer_sizes=(7,), activation='relu', max_iter=2000, random_state=2024)\n",
    "mlp.fit(X_train, y_train)\n",
    "\n",
    "y_train_pred = mlp.predict(X_train)\n",
    "train_accuracy = accuracy_score(y_train, y_train_pred)\n",
    "print(f'Training Accuracy: {train_accuracy}')\n",
    "\n",
    "y_test_pred = mlp.predict(X_test)\n",
    "test_accuracy = accuracy_score(y_test, y_test_pred)\n",
    "print(f'Test Accuracy: {test_accuracy}')"
   ]
  },
  {
   "cell_type": "markdown",
   "metadata": {},
   "source": [
    "## Task 2\n",
    "\n",
    "Implement a do it yourself (DIY) multilayer perceptron classifier following the Scikit-Learn API by completing the `NeuralNet` class below. \n",
    "\n",
    "You will see in the description of the class that we are suggesting a somewhat atypical architecture consisting of a single hidden layer with hyperbolic tangent activation followed by linear output, trained on the sum of squares loss. This is to simplify the implementation and align it with the simple example of backpropagation shown in the [Bishop Deep Learning Book](https://www.bishopbook.com/) Section 8.1.3 (meaning you do not need to derive the derivatives for backpropagation yourself and are invited to implement the derivations from the book).\n",
    "\n",
    "Some important notes about the implementation:\n",
    "\n",
    "1. Remember that the Scikit-Learn API treats an input `X` array, whether to `fit` or `predict`, as a matrix with a row for every data point and a column for every feature. \n",
    "2. For `fit`, every row in `X` corresponds to a given output in `y`, and  you don't need to return anything, just optimize the internal model weights using minibatch stochastic gradient descent. Model weights should be stored as instance variables -- we recommend that you initialize these weights as random normally distributed values, for example by using NumPy's [random.normal](https://numpy.org/doc/stable/reference/random/generated/numpy.random.normal.html). You may wish to separately implement a `backprop` helper method to compute the gradient in order to simplify the code structure, but this is optional. \n",
    "3. For `predict_proba`, you should return a two-dimensional NumPy array with a row for every row in `X` and a column for every value in `0, 1, ..., out_size - 1` corresponding to the possible classes, where each entry in a given row corresponds to a probability the given row's input corresponds to the given column's class.\n",
    "4. For `predict`, you should return a one-dimensional NumPy array with a single element `0, 1, ..., out_size - 1` per row in `X` corresponding to the class with the highest predicted probability.\n",
    "5. You do **not** need to include a bias term for this implementation.\n",
    "6. The `fit` method takes an optional `verbose` parameter. While it is not required, we highly recommend that you include code in the `fit` method that, when `verbose` is `True`, logs/prints more information about the training process to help debug. \n",
    "7. The `pass` statements are syntactic placeholders that should be removed when you implement a method.\n",
    "8. Make sure to double check the shapes/dimensions of any matrices or vectors to confirm they align with your expectations.\n",
    "9. Finally, note that your implementation will be much more efficient if you use vectorized NumPy operations and avoid for loops or nested for loops over large amounts of data."
   ]
  },
  {
   "cell_type": "code",
   "execution_count": 4,
   "metadata": {},
   "outputs": [],
   "source": [
    "class NeuralNet:\n",
    "   \n",
    "    def __init__(self, in_size, out_size, \n",
    "                 h_size=100, lr=0.01, batch_size=64,\n",
    "                 epochs=2, random_state=2024):\n",
    "        np.random.seed(random_state)\n",
    "        self.in_size = in_size\n",
    "        self.out_size = out_size\n",
    "        self.h_size = h_size\n",
    "        self.lr = lr\n",
    "        self.batch_size = batch_size\n",
    "        self.epochs = epochs\n",
    "        \n",
    "        # initialize the weights\n",
    "        self.W1 = np.random.normal(0, 0.1, (in_size, h_size))\n",
    "        self.W2 = np.random.normal(0, 0.1, (h_size, out_size))\n",
    "    \n",
    "    def forward(self, X):\n",
    "        self.a1 = X @ self.W1\n",
    "        self.z1 = np.tanh(self.a1)\n",
    "        self.a2 = self.z1 @ self.W2\n",
    "        return self.a2\n",
    "    \n",
    "    def backprop(self, X_batch, y_batch):\n",
    "        logits = self.forward(X_batch)\n",
    "        y_one_hot_encoded = np.eye(self.out_size)[y_batch]  \n",
    "    \n",
    "        grad_a2 = (logits - y_one_hot_encoded) / self.batch_size\n",
    "        grad_W2 = self.z1.T @ grad_a2\n",
    "        grad_z1 = grad_a2 @ self.W2.T\n",
    "        grad_a1 = grad_z1 * (1 - self.z1**2)  # derivative of tanh activation\n",
    "        grad_W1 = X_batch.T @ grad_a1\n",
    "    \n",
    "        return grad_W1, grad_W2\n",
    "    \n",
    "    def predict_proba(self, X):\n",
    "        logits = self.forward(X)\n",
    "        exp_logits = np.exp(logits - np.max(logits, axis=1, keepdims=True))\n",
    "        return exp_logits / np.sum(exp_logits, axis=1, keepdims=True)\n",
    "\n",
    "    def predict(self, X):\n",
    "        return np.argmax(self.predict_proba(X), axis=1)\n",
    "     \n",
    "    def fit(self, X, y, verbose=False):\n",
    "        for epoch in range(self.epochs):\n",
    "            indices = np.arange(X.shape[0])\n",
    "            np.random.shuffle(indices)\n",
    "            for i in range(0, X.shape[0], self.batch_size):\n",
    "                batch_index = indices[i:i+self.batch_size]\n",
    "                X_batch, y_batch = X[batch_index], y[batch_index]\n",
    "                \n",
    "                grad_W1, grad_W2 = self.backprop(X_batch, y_batch)\n",
    "                \n",
    "                self.W2 -= self.lr * grad_W2\n",
    "                self.W1 -= self.lr * grad_W1\n",
    "                \n",
    "            if verbose:\n",
    "                acc = np.mean(self.predict(X) == y)\n",
    "                print(f\"Epoch {epoch+1}/{self.epochs}, Accuracy: {acc:.4f}\")\n",
    "\n"
   ]
  },
  {
   "cell_type": "markdown",
   "metadata": {},
   "source": [
    "## Task 3\n",
    "\n",
    "Show that your `NeuralNet` class can effectively learn. Specifically fit an instance of your DIY model on the training data to predict the value of `y` given `X`. You may need to experiment with different numbers of hidden units (you only need to have one hidden layer) or other training hyperparameters. Ensure that you achieve a **training** [accuracy](https://scikit-learn.org/stable/modules/generated/sklearn.metrics.accuracy_score.html) of at least 70% (your implementation is not expected to achieve the same level of performance as the Scikit-Learn implementation, but should demonstrate the proof of concept).   \n",
    "\n",
    "Then evaluate and report the [accuracy](https://scikit-learn.org/stable/modules/generated/sklearn.metrics.accuracy_score.html) of your model on the **test** data."
   ]
  },
  {
   "cell_type": "code",
   "execution_count": 21,
   "metadata": {},
   "outputs": [
    {
     "name": "stdout",
     "output_type": "stream",
     "text": [
      "Epoch 1/100, Accuracy: 0.2307\n",
      "Epoch 2/100, Accuracy: 0.3286\n",
      "Epoch 3/100, Accuracy: 0.4399\n",
      "Epoch 4/100, Accuracy: 0.5259\n",
      "Epoch 5/100, Accuracy: 0.5990\n",
      "Epoch 6/100, Accuracy: 0.6523\n",
      "Epoch 7/100, Accuracy: 0.6762\n",
      "Epoch 8/100, Accuracy: 0.7049\n",
      "Epoch 9/100, Accuracy: 0.7399\n",
      "Epoch 10/100, Accuracy: 0.7407\n",
      "Epoch 11/100, Accuracy: 0.7621\n",
      "Epoch 12/100, Accuracy: 0.7765\n",
      "Epoch 13/100, Accuracy: 0.7772\n",
      "Epoch 14/100, Accuracy: 0.8003\n",
      "Epoch 15/100, Accuracy: 0.8067\n",
      "Epoch 16/100, Accuracy: 0.8107\n",
      "Epoch 17/100, Accuracy: 0.8242\n",
      "Epoch 18/100, Accuracy: 0.8075\n",
      "Epoch 19/100, Accuracy: 0.8321\n",
      "Epoch 20/100, Accuracy: 0.8425\n",
      "Epoch 21/100, Accuracy: 0.8457\n",
      "Epoch 22/100, Accuracy: 0.8536\n",
      "Epoch 23/100, Accuracy: 0.8584\n",
      "Epoch 24/100, Accuracy: 0.8687\n",
      "Epoch 25/100, Accuracy: 0.8735\n",
      "Epoch 26/100, Accuracy: 0.8759\n",
      "Epoch 27/100, Accuracy: 0.8870\n",
      "Epoch 28/100, Accuracy: 0.8934\n",
      "Epoch 29/100, Accuracy: 0.9014\n",
      "Epoch 30/100, Accuracy: 0.9014\n",
      "Epoch 31/100, Accuracy: 0.9037\n",
      "Epoch 32/100, Accuracy: 0.9085\n",
      "Epoch 33/100, Accuracy: 0.9109\n",
      "Epoch 34/100, Accuracy: 0.9093\n",
      "Epoch 35/100, Accuracy: 0.9117\n",
      "Epoch 36/100, Accuracy: 0.9181\n",
      "Epoch 37/100, Accuracy: 0.9204\n",
      "Epoch 38/100, Accuracy: 0.9204\n",
      "Epoch 39/100, Accuracy: 0.9212\n",
      "Epoch 40/100, Accuracy: 0.9252\n",
      "Epoch 41/100, Accuracy: 0.9276\n",
      "Epoch 42/100, Accuracy: 0.9276\n",
      "Epoch 43/100, Accuracy: 0.9324\n",
      "Epoch 44/100, Accuracy: 0.9324\n",
      "Epoch 45/100, Accuracy: 0.9364\n",
      "Epoch 46/100, Accuracy: 0.9356\n",
      "Epoch 47/100, Accuracy: 0.9324\n",
      "Epoch 48/100, Accuracy: 0.9372\n",
      "Epoch 49/100, Accuracy: 0.9387\n",
      "Epoch 50/100, Accuracy: 0.9372\n",
      "Epoch 51/100, Accuracy: 0.9379\n",
      "Epoch 52/100, Accuracy: 0.9395\n",
      "Epoch 53/100, Accuracy: 0.9403\n",
      "Epoch 54/100, Accuracy: 0.9419\n",
      "Epoch 55/100, Accuracy: 0.9435\n",
      "Epoch 56/100, Accuracy: 0.9443\n",
      "Epoch 57/100, Accuracy: 0.9459\n",
      "Epoch 58/100, Accuracy: 0.9451\n",
      "Epoch 59/100, Accuracy: 0.9475\n",
      "Epoch 60/100, Accuracy: 0.9491\n",
      "Epoch 61/100, Accuracy: 0.9491\n",
      "Epoch 62/100, Accuracy: 0.9507\n",
      "Epoch 63/100, Accuracy: 0.9507\n",
      "Epoch 64/100, Accuracy: 0.9507\n",
      "Epoch 65/100, Accuracy: 0.9499\n",
      "Epoch 66/100, Accuracy: 0.9531\n",
      "Epoch 67/100, Accuracy: 0.9539\n",
      "Epoch 68/100, Accuracy: 0.9554\n",
      "Epoch 69/100, Accuracy: 0.9539\n",
      "Epoch 70/100, Accuracy: 0.9570\n",
      "Epoch 71/100, Accuracy: 0.9586\n",
      "Epoch 72/100, Accuracy: 0.9562\n",
      "Epoch 73/100, Accuracy: 0.9610\n",
      "Epoch 74/100, Accuracy: 0.9610\n",
      "Epoch 75/100, Accuracy: 0.9626\n",
      "Epoch 76/100, Accuracy: 0.9634\n",
      "Epoch 77/100, Accuracy: 0.9650\n",
      "Epoch 78/100, Accuracy: 0.9650\n",
      "Epoch 79/100, Accuracy: 0.9666\n",
      "Epoch 80/100, Accuracy: 0.9674\n",
      "Epoch 81/100, Accuracy: 0.9666\n",
      "Epoch 82/100, Accuracy: 0.9682\n",
      "Epoch 83/100, Accuracy: 0.9682\n",
      "Epoch 84/100, Accuracy: 0.9682\n",
      "Epoch 85/100, Accuracy: 0.9698\n",
      "Epoch 86/100, Accuracy: 0.9690\n",
      "Epoch 87/100, Accuracy: 0.9706\n",
      "Epoch 88/100, Accuracy: 0.9698\n",
      "Epoch 89/100, Accuracy: 0.9714\n",
      "Epoch 90/100, Accuracy: 0.9706\n",
      "Epoch 91/100, Accuracy: 0.9706\n",
      "Epoch 92/100, Accuracy: 0.9714\n",
      "Epoch 93/100, Accuracy: 0.9698\n",
      "Epoch 94/100, Accuracy: 0.9722\n",
      "Epoch 95/100, Accuracy: 0.9714\n",
      "Epoch 96/100, Accuracy: 0.9722\n",
      "Epoch 97/100, Accuracy: 0.9714\n",
      "Epoch 98/100, Accuracy: 0.9698\n",
      "Epoch 99/100, Accuracy: 0.9722\n",
      "Epoch 100/100, Accuracy: 0.9730\n",
      "Training Accuracy: 0.9729514717581543\n",
      "Test Accuracy: 0.9092592592592592\n"
     ]
    }
   ],
   "source": [
    "import numpy as np\n",
    "from sklearn.model_selection import train_test_split\n",
    "from sklearn.datasets import make_classification\n",
    "from sklearn.metrics import accuracy_score\n",
    "\n",
    "nn = NeuralNet(in_size=X_train.shape[1], out_size=10, h_size=50, lr=0.01, batch_size=64, epochs=100)\n",
    "nn.fit(X_train, y_train, verbose=True)\n",
    "\n",
    "y_train_pred = nn.predict(X_train)\n",
    "train_accuracy = accuracy_score(y_train, y_train_pred)\n",
    "print(f'Training Accuracy: {train_accuracy}')\n",
    "\n",
    "y_test_pred = nn.predict(X_test)\n",
    "test_accuracy = accuracy_score(y_test, y_test_pred)\n",
    "print(f'Test Accuracy: {test_accuracy}')"
   ]
  },
  {
   "cell_type": "code",
   "execution_count": null,
   "metadata": {},
   "outputs": [],
   "source": []
  },
  {
   "cell_type": "code",
   "execution_count": null,
   "metadata": {},
   "outputs": [],
   "source": []
  }
 ],
 "metadata": {
  "kernelspec": {
   "display_name": "Python 3 (ipykernel)",
   "language": "python",
   "name": "python3"
  },
  "language_info": {
   "codemirror_mode": {
    "name": "ipython",
    "version": 3
   },
   "file_extension": ".py",
   "mimetype": "text/x-python",
   "name": "python",
   "nbconvert_exporter": "python",
   "pygments_lexer": "ipython3",
   "version": "3.11.5"
  }
 },
 "nbformat": 4,
 "nbformat_minor": 4
}
